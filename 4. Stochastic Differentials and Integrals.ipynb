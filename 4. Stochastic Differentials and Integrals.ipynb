{
 "cells": [
  {
   "cell_type": "markdown",
   "metadata": {},
   "source": [
    "# Stochastic Differentiatiation and Integration"
   ]
  },
  {
   "cell_type": "markdown",
   "metadata": {},
   "source": [
    "|               | Algebraic Equations                           | Ordinary Differential Equations  | Stochastic Differential Equations           |\n",
    "|---------------|-----------------------------------------------|----------------------------------|---------------------------------------------|\n",
    "| What is Known | Input, current state, and closed-form formula | Rate of change and current state | Stochastic rate of change and current state |\n",
    "| What We Want  | New output given new input                    | Value of variable at later time  | Distribution of variable at a later time    |"
   ]
  },
  {
   "cell_type": "code",
   "execution_count": null,
   "metadata": {},
   "outputs": [],
   "source": []
  }
 ],
 "metadata": {
  "kernelspec": {
   "display_name": "base",
   "language": "python",
   "name": "python3"
  },
  "language_info": {
   "codemirror_mode": {
    "name": "ipython",
    "version": 3
   },
   "file_extension": ".py",
   "mimetype": "text/x-python",
   "name": "python",
   "nbconvert_exporter": "python",
   "pygments_lexer": "ipython3",
   "version": "3.10.9"
  }
 },
 "nbformat": 4,
 "nbformat_minor": 2
}
