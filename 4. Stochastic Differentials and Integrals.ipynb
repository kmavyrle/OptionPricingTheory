{
 "cells": [
  {
   "cell_type": "markdown",
   "metadata": {},
   "source": [
    "# Stochastic Differentiatiation and Integration"
   ]
  },
  {
   "cell_type": "markdown",
   "metadata": {},
   "source": [
    "|               | Algebraic Equations                           | Ordinary Differential Equations  | Stochastic Differential Equations           |\n",
    "|---------------|-----------------------------------------------|----------------------------------|---------------------------------------------|\n",
    "| What is Known | Input, current state, and closed-form formula | Rate of change and current state | Stochastic rate of change and current state |\n",
    "| What We Want  | New output given new input                    | Value of variable at later time  | Distribution of variable at a later time    |"
   ]
  },
  {
   "cell_type": "markdown",
   "metadata": {},
   "source": [
    "#### Ordinary Differentiation\n",
    "$$S = 2t^2$$\n",
    "$$\\frac{dS}{dt} = 4t$$\n",
    "\n",
    "#### Stochastic Differentiation\n",
    "$$S = 2w^2$$\n",
    "$$\\frac{dS}{dw} =  \\text{??, since Brownian motion is nowhere differentiable}$$  \n"
   ]
  },
  {
   "cell_type": "markdown",
   "metadata": {},
   "source": [
    "Using the Taylor's Expansion approach we can find the differential equations for both ordinary differentials and stochastic differentials.\n",
    "\n",
    "##### Ordinary Differential Equations\n",
    "$$ f(t +dt) = f(dt) + (dt)\\frac{\\partial S}{\\partial t}+ \\frac{(dt)^2}{2!}\\frac{\\partial^2 S}{\\partial t^2}+\\frac{(dt)^3}{3!}\\frac{\\partial^3S}{\\partial t^3}+ \\dots$$\n",
    "Removing the third term for simplicity\n",
    "$$ f(t +dt) - f(dt) =  (dt)\\frac{\\partial S}{\\partial t}+ \\frac{(dt)^2}{2!}\\frac{\\partial^2 S}{\\partial t^2} +\\dots$$\n",
    "$$ dS =  (dt)\\frac{\\partial S}{\\partial t}+ \\frac{(dt)^2}{2!}\\frac{\\partial^2 S}{\\partial t^2}+ \\dots$$\n",
    "$$ \\frac{dS}{dt} =  \\frac{\\partial S}{\\partial t}+ \\frac{dt}{2!}\\frac{\\partial^2 S}{\\partial t^2}+ \\dots$$\n",
    "As we have established earlier when defining what a differential is, we have mentioned that we are pushing dt as close to 0 as possible such that it is infinitesmally small; $\\lim_{dt \\to 0}$. That means every term after the first term on the RHS of the equation can be dropped since dt is almost 0 and thus negligible.\n",
    "Thus,\n",
    "$$\\frac{dS}{dt} = \\frac{\\partial S}{\\partial t}$$\n",
    "$$ dS = \\frac{\\partial S}{\\partial t}dt$$\n",
    "In Largrange notation,\n",
    "$$ dS = f'(t)dt$$\n"
   ]
  },
  {
   "cell_type": "markdown",
   "metadata": {},
   "source": [
    "##### Stochastic Differential Equations\n",
    "$$ f(W_t +dW_t) = f(W_t) + (dW_t)\\frac{\\partial S}{\\partial W_t}+ \\frac{(dW_t)^2}{2!}\\frac{\\partial^2 S}{\\partial W_t^2}+\\frac{(dW_t)^3}{3!}\\frac{\\partial^3S}{\\partial W_t^3}+ \\dots$$\n",
    "Removing the third term for simplicity\n",
    "$$ f(W_t +dW_t) - f(dW_t) =  (dW_t)\\frac{\\partial S}{\\partial W_t}+ \\frac{(dW_t)^2}{2!}\\frac{\\partial^2 S}{\\partial W_t^2} +\\dots$$\n",
    "$$ dS =  (dW_t)\\frac{\\partial S}{\\partial W_t}+ \\frac{(dW_t)^2}{2!}\\frac{\\partial^2 S}{\\partial W_t^2}+ \\dots$$\n",
    "\n",
    "As we have established in the earlier note that the quadratic variation of Brownian motion does not approach 0 even as we minimize the time increment to being as close as possible to 0, we are unable to remove the second term of the Taylor's Expansion above. Instead $(dW_t)^2$ becomes t as we squeeze the time increment to being as close to 0 as possible and we drop the rest of the terms\n",
    "Thus,\n",
    "$$ dS =  (dW_t)\\frac{\\partial S}{\\partial W_t}+ \\frac{(dW_t)^2}{2!}\\frac{\\partial^2 S}{\\partial W_t^2}+ \\dots$$\n",
    "$$ dS =  \\frac{\\partial S}{\\partial W_t}dW_t+ \\frac{1}{2}\\frac{\\partial^2 S}{\\partial W_t^2}dt$$\n",
    "\n",
    "In the above, I have expressed the differential equation in Leibnitz's notation. For the more common Lagrange notation, we have:\n",
    "\n",
    "$$ dS =  f'(W_t)dW_t+ \\frac{1}{2}f''(W_t)dt $$"
   ]
  },
  {
   "cell_type": "markdown",
   "metadata": {},
   "source": [
    "#### In summary, we have the following,\n",
    "##### Ordinary Differential Equation\n",
    "$$S = 2t^2$$\n",
    "$$\\frac{dS}{dt} = 4t$$\n",
    "$$dS = 4tdt$$\n",
    "\n",
    "##### Stochastic Differential Equation\n",
    "$$S = 2w^2$$\n",
    "$$dS = 4wdw + \\frac{1}{2!} *4*(dw)^2$$\n",
    "$$dS = 4wdw + 2dt$$"
   ]
  },
  {
   "cell_type": "markdown",
   "metadata": {},
   "source": []
  }
 ],
 "metadata": {
  "kernelspec": {
   "display_name": "base",
   "language": "python",
   "name": "python3"
  },
  "language_info": {
   "codemirror_mode": {
    "name": "ipython",
    "version": 3
   },
   "file_extension": ".py",
   "mimetype": "text/x-python",
   "name": "python",
   "nbconvert_exporter": "python",
   "pygments_lexer": "ipython3",
   "version": "3.10.9"
  }
 },
 "nbformat": 4,
 "nbformat_minor": 2
}
