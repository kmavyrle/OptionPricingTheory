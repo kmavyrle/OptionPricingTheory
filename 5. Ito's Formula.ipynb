{
 "cells": [
  {
   "cell_type": "markdown",
   "metadata": {},
   "source": [
    "# Ito's Formula\n",
    "\n",
    "### Simple Intuition\n",
    "First, I think it is quite difficult to explain Ito's Formula as a standalone concept as it involves many other mathematical axioms brought together. To explain Ito's Formula as simply as possible, I would explain it as the stochastic calculus equivalent of the chain rule in differentiation. It's purpose is to serve as a transformation to bring an initially more complex change in stock price process into a simpler one; one that is expressed as a function of its drift and stochastic component."
   ]
  },
  {
   "cell_type": "markdown",
   "metadata": {},
   "source": [
    "\n",
    "Now that we have covered the building blocks of Option Pricing Theory in the previous notes, we can be introduced to Ito's Formula which brings them all together  - forming our basis for option pricing.\n",
    "\n",
    "The buildings blocks are:\n",
    "1. Our stock price change process $dS_t$: This is in the form of a formula\n",
    "2. Taylor's Expansion: To approximate non-linear functions with higher-order derivatives. Here we are trying to model the stock price (expressed as a non-linear function). Ito's formula makes use of Taylor's Expansion.\n",
    "3. Box Calculus: To handle non-zero quadratic variation prevalent in stochastic processes\n",
    "4. Completing the square: A standard step required\n",
    "5. Proxy functions: Some stock price change processes cannot be integrated (to get the stock price process) without a proxy function\n",
    "6. Calculation of Mean and Variance: This is done via integration; the mean will serve as the price, while variance serves as the vol\n",
    "\n",
    "With the above building blocks, we can work towards obtaining the price of an option (or any derivative for that matter). Take note that one the key assumptions is that the stock price process follows the risk-neutral measure. Put simply, the risk-neutral measure assumes that in going long or short an option, there is no risk involved. This is actually (mostly) true as long as the trader is able to continuously delta-hedge his exposure with the underlying stock. "
   ]
  },
  {
   "cell_type": "markdown",
   "metadata": {},
   "source": [
    "#### Steps:\n",
    "1. Purpose: Find the price of an option\n",
    "2. Generate the change in stock price process - $dS_t$. Note that this change in stock price process is hypothetical (under the risk-neutral measure). Different option pricing models have different stock price process assumptions.\n",
    "2. Create a proxy function to enable us to find the stock price process $S_t$. By integrating the change in stock price process, we get the stock price process.\n",
    "3. Integrate the change in stock price process after applying a proxy function, using Ito's Formula\n",
    "4. After obtaining the stock price process $S_t$, we transform this stock price process into the derivative price. For a standard call option for example, this would be $S_t - K$, where K is the strike price\n",
    "5. Find the expected value of the derivative by finding the integral of the stock price process multiplied by its probability distribution function: $\\int^\\infty_{-\\infty} f(S_t) * PDF_{S_t} dx$\n",
    "Over here, $f(S_t)$ is the function describing the payoff of the derivative while $PDF_{S_t}$ is the probability distribution function of $S_t$. For most cases, this PDF is simply the normal distribution, i.e risk-neutral measure where expected returns is zero with a stochastic component."
   ]
  },
  {
   "cell_type": "markdown",
   "metadata": {},
   "source": [
    "Before further explaining with more compicated jargon, we have, below, a fully worked example of the above 6 steps in order to derive the price of a call option."
   ]
  },
  {
   "cell_type": "markdown",
   "metadata": {},
   "source": [
    "##### Step 1:\n",
    "Find the price of call option using the Black-Scholes Model\n",
    "\n",
    "##### Step 2:\n",
    "The black-scholes model assumes that stock prices follow a lognormal distribution. It may not be particularly clear for now, but a change in stock price process that is lognormal is as such:\n",
    "$$dS_t = rS_t dt + \\sigma S_t dW_t$$\n",
    "\n",
    "If we reshuffle the equation we can see that the left-hand sideis a percentage change formulation. The right hand side states that the percentage change in stock price over a period of time is equal to a deterministic drift component $r$ that is scaled by the amount of time that has passed $dt$ with a stochastic component $\\sigma dW_t$\n",
    "$$\\frac{dS_t}{S_t} = rdt + \\sigma dW_t$$\n",
    "\n",
    "##### Step 3:\n",
    "Logically, to find the stock price process $S_t$ from $dS_t$, we have to integrate $dS_t = rS_t dt + \\sigma S_t dW_t$. However, do note that we are unable to integrate this function as we do not yet know the value of $S_t$ (there is no closed form function to obtain $S_t$ since $S_t$ is a random process). \n",
    "This is where we require the use of the proxy function which allows us to remove the $S_t$ term from the equation. Other models will require other proxy functions that one has to solve for first.\n",
    "In this case our proxy function is the **log function**.\n",
    "\n",
    "\n",
    "$$\\text{Let }Y_t = f(S_t) = log(S_t)$$\n",
    "Now instead of find the change in the stock price process $S_t$, we try to find the change in the log(stock price) process. To do this, we can apply Ito's Formula, which is an adaptation of Taylor's Expansion to find the change in log(stock price) process.\n",
    "By Ito's Formula\n",
    "$$dY_t = f'(S_t) dS_t + \\frac{1}{2}f''(S_t) (dS_t)^2-----(1)$$\n",
    "\n",
    "Note that the equation (1) above is Ito's Formula, which essentially helps to perform the transformation of an initially complex function (where the stock price change process is a function of the future stock price itself = very complicated, into one that has a simple drift and stochastic component)\n",
    "\n",
    "Substituting $dS_t$ into the above equation,\n",
    "$$dY_t = f'(S_t)\\big[rS_t dt + \\sigma S_t dW_t \\big] +\\frac{1}{2}f''(S_t)\\big[rS_t dt + \\sigma S_t dW_t \\big]^2 $$\n",
    "\n",
    "From here, on the most right hand side of the equation, we have $(dt)^2 = 0$ and using the Box Calculus rule, $(dW_t)^2 =dt$\n",
    "$$dY_t = f'(S_t)\\big[rS_t dt + \\sigma S_t dW_t \\big] +\\frac{1}{2}f''(S_t)( \\sigma^2 S_t^2 dt \\big) -----(2)$$\n",
    "\n",
    "Solving for $f'(S_t)$ and $f''(S_t)$, we have,\n",
    "$$f'(S_t) =\\frac{d log(S_t)}{dS_t}= \\frac{1}{S_t}$$\n",
    "$$f''(S_t) = -\\frac{1}{S_t^2}$$\n",
    "\n",
    "Now we can substitute our derivatives into equation (2)\n",
    "$$dY_t = \\frac{1}{S_t}\\big[rS_t dt + \\sigma S_t dW_t \\big] -\\frac{1}{2S_t^2} ( \\sigma^2 S_t^2 dt)$$\n",
    "$$dY_t = \\big[rdt + \\sigma dW_t \\big] -\\frac{1}{2} (\\sigma^2 dt)$$\n",
    "$$dY_t = \\big(r -\\frac{\\sigma^2}{2}\\big)dt+ \\sigma dW_t$$\n",
    "\n",
    "\n",
    "##### Step 4:\n",
    "To go from $dY_t$ to $Y_t$, we simply integrate both sides\n",
    "$$\\int^T_0 dY_t = \\int^T_0\\big(r -\\frac{\\sigma^2}{2}\\big)dt+ \\int^T_0\\sigma dW_t$$\n",
    "$$Y_t - Y_0 = (r -\\frac{\\sigma^2}{2}\\big)T+\\sigma W_t$$\n",
    "$$log(S_t) - log(S_0) = (r -\\frac{\\sigma^2}{2}\\big)T+\\sigma W_t$$\n",
    "$$log(\\frac{S_t}{S_0}) = (r -\\frac{\\sigma^2}{2}\\big)T+\\sigma W_t$$\n",
    "\n",
    "Taking exponentials on both sides\n",
    "$$\\frac{S_t}{S_0} = e^{(r -\\frac{\\sigma^2}{2}\\big)T+\\sigma W_t}$$\n",
    "$$S_t = S_0e^{(r -\\frac{\\sigma^2}{2}\\big)T+\\sigma W_t}$$"
   ]
  },
  {
   "cell_type": "markdown",
   "metadata": {},
   "source": [
    "\n",
    "Essentially, Ito's Formula has brought helped us transform our change in stock price process from:\n",
    "$$dS_t = rS_tdt + \\sigma S_tdW_t$$\n",
    "which is initially a function of the future stock price at time t itself (which is not very possible to know the future stock price at time 0),to:\n",
    "$$d log(S_t) = (r-\\frac{\\sigma^2}{2})dt +\\sigma dW_t$$"
   ]
  },
  {
   "cell_type": "markdown",
   "metadata": {},
   "source": []
  }
 ],
 "metadata": {
  "kernelspec": {
   "display_name": "base",
   "language": "python",
   "name": "python3"
  },
  "language_info": {
   "name": "python",
   "version": "3.10.9"
  }
 },
 "nbformat": 4,
 "nbformat_minor": 2
}
