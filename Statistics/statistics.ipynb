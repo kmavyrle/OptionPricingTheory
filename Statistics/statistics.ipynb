{
 "cells": [
  {
   "cell_type": "markdown",
   "metadata": {},
   "source": [
    "# Statistics"
   ]
  },
  {
   "cell_type": "markdown",
   "metadata": {},
   "source": [
    "## Mean\n",
    "In simple terms, mean is the average of a set of observed values, as simple as that. We can use it to say, describe some properties of a set of observations with a single number.\n",
    "\n",
    "In the context of Mathematics, we are in the business of finding relationships that we observe in the real world and quantifying them from,initially qualitative observations, into something we can universally describe with (numbers). We define mean as a measure of central tendancy. Given a process that produces values which follow a particular distribution, we can use the mean an expectation of the values that are produced.\n",
    "\n",
    "### Mathematical Notations\n",
    "$$ Mean(\\mu) = \\frac{\\sum^N_{i=1}X_i}{N}$$\n",
    "The above means: \"The mean is the sum of all observations of x divided by N (the number of observations).\"\n",
    "\n"
   ]
  },
  {
   "cell_type": "code",
   "execution_count": 4,
   "metadata": {},
   "outputs": [
    {
     "name": "stdout",
     "output_type": "stream",
     "text": [
      "The mean is:\n",
      "6.928571428571429\n"
     ]
    }
   ],
   "source": [
    "observations = [1,1,1,2,2,4,5,7,10,11,11,14,14,14]\n",
    "# In the formulation below we calculate the mean in the above set of observations\n",
    "N = len(observations)\n",
    "mean = sum(observations)/N\n",
    "print(\"The mean is:\")\n",
    "print(mean)"
   ]
  },
  {
   "cell_type": "markdown",
   "metadata": {},
   "source": [
    "In the context of probability, we intend to use this means with the purpose of prediction. We are able to also express the mean in a different form yet provide the same result.\n",
    "\n",
    "$$Mean(\\mu) = E[X] = \\sum^N_{i=1} P(X = x_i) * x_i$$\n",
    "\n",
    "The above means: \"The mean is the sum of the multiples of x with their respective probabilities.\""
   ]
  },
  {
   "cell_type": "code",
   "execution_count": 5,
   "metadata": {},
   "outputs": [
    {
     "data": {
      "text/plain": [
       "[3, 2, 1, 1, 1, 1, 2, 3]"
      ]
     },
     "execution_count": 5,
     "metadata": {},
     "output_type": "execute_result"
    }
   ],
   "source": [
    "# In the formulation, below we calculate the mean with the probability method from above\n",
    "counts = [observations.count(i) for i in set(observations)]\n",
    "counts \n",
    "# Below we have the number of times each element appears in the observations list.\n",
    "# We observe 1 three times, 2 two times, so on and so forth"
   ]
  },
  {
   "cell_type": "code",
   "execution_count": 6,
   "metadata": {},
   "outputs": [
    {
     "data": {
      "text/plain": [
       "[0.21428571428571427,\n",
       " 0.14285714285714285,\n",
       " 0.07142857142857142,\n",
       " 0.07142857142857142,\n",
       " 0.07142857142857142,\n",
       " 0.07142857142857142,\n",
       " 0.14285714285714285,\n",
       " 0.21428571428571427]"
      ]
     },
     "execution_count": 6,
     "metadata": {},
     "output_type": "execute_result"
    }
   ],
   "source": [
    "# Next we get the probabilites of each observation happening by dividing each count by the total number of observations\n",
    "probabilities = [c/N for c in counts]\n",
    "probabilities"
   ]
  },
  {
   "cell_type": "code",
   "execution_count": 7,
   "metadata": {},
   "outputs": [
    {
     "name": "stdout",
     "output_type": "stream",
     "text": [
      "The mean is: \n",
      "6.928571428571428\n"
     ]
    }
   ],
   "source": [
    "# Then we get the mean by summing the multiples of their probabilites with their respective observed values as explained above.\n",
    "# We observe that for both methods, we get the same final value of the mean\n",
    "mean = sum([x * p for x,p in zip(probabilities,set(observations))])\n",
    "print('The mean is: ')\n",
    "print(mean)"
   ]
  },
  {
   "cell_type": "code",
   "execution_count": 8,
   "metadata": {},
   "outputs": [
    {
     "data": {
      "text/plain": [
       "6.928571428571429"
      ]
     },
     "execution_count": 8,
     "metadata": {},
     "output_type": "execute_result"
    }
   ],
   "source": [
    "def get_mean(observations):\n",
    "    N = len(observations)\n",
    "    return sum(observations)/N\n",
    "get_mean(observations)"
   ]
  },
  {
   "cell_type": "markdown",
   "metadata": {},
   "source": [
    "## Variance\n",
    "\n",
    "Now, we move on to the slightly more complicated statistical measures, the first of which being variance. I believe many feel that they have a strong grasp of simple statistical measures (myself included) related to variance, but it was not until I had to use them for more complex computations in option pricing did I realize that I only had a very surface-level understanding.\n",
    "Variance is the foundation of standard deviation, covariance, and correlation, all of which are very important measures in Quantitative Finance.\n",
    "\n",
    "Simply put, variance is a measure of how spread out a set of observations are.\n",
    "\n",
    "Once again, in the context of Mathematics, we say variance is a measure of dispersion of a group of observations. In the application of variance in drawing relationships of real-life observations, we find that the larger the variance of an observation, the harder it is to say with confidence, that a particular sample of a distribution will be close to the mean. Recall in the above we say that the mean is the expectation of a distribution. \n",
    "\n",
    "Just as an example, we can say that we expect the height of a random guy in Singapore to have a height of 171 cm, but if the variance is very high, we are unable to say, with a high level of confidence, that for a random guy we find in Singaore, his height would be around 171 cm.\n",
    "\n",
    "### Mathematical Notation\n",
    "\n",
    "$$ Variance (\\sigma^2) = \\frac{\\sum^N_{i=1} (x_i -\\tilde{x})^2}{N}$$\n",
    "\n",
    "Here, $\\tilde{x}$ is the mean of the population, (could either be known or an estimate as well). In simple terms this means \"The variance is the sum of squared deviations of each observed sample from the mean divided by the number of samples.\" The purpose of the square in the above would be to make each observed value become positive (if not they would very likley cancel each other out and give a poor representation of dispersion). Note how, it is increasingly difficult to describe in simple English what each of these statistical parameters are."
   ]
  },
  {
   "cell_type": "code",
   "execution_count": 9,
   "metadata": {},
   "outputs": [
    {
     "name": "stdout",
     "output_type": "stream",
     "text": [
      "The mean is:\n",
      "6.928571428571428\n"
     ]
    }
   ],
   "source": [
    "print(\"The mean is:\")\n",
    "print(mean)\n",
    "# From the above we have that the mean is equal to 6.92"
   ]
  },
  {
   "cell_type": "code",
   "execution_count": 10,
   "metadata": {},
   "outputs": [
    {
     "name": "stdout",
     "output_type": "stream",
     "text": [
      "The variance is: \n",
      "25.637755102040817\n"
     ]
    }
   ],
   "source": [
    "N = len(observations)                                    # Find the denominator N\n",
    "squared_deviations = [(o-mean)**2 for o in observations] #Find the numerator Sum[(x - mu)^2]\n",
    "variance = sum(squared_deviations)/N            \n",
    "print(\"The variance is: \")\n",
    "print(variance)"
   ]
  },
  {
   "cell_type": "code",
   "execution_count": 11,
   "metadata": {},
   "outputs": [
    {
     "data": {
      "text/plain": [
       "25.637755102040813"
      ]
     },
     "execution_count": 11,
     "metadata": {},
     "output_type": "execute_result"
    }
   ],
   "source": [
    "\n",
    "def get_variance(observations):\n",
    "    mu = get_mean(observations)\n",
    "    N = len(observations)\n",
    "    squared_deviations = [(o-mu)**2 for o in observations]\n",
    "    return sum(squared_deviations)/N\n",
    "get_variance(observations)"
   ]
  },
  {
   "cell_type": "markdown",
   "metadata": {},
   "source": [
    "### Further Mathematical Notations\n",
    "\n",
    "Note that we can also express the variance in other notations. Recal that we have defined the mean above as the expectation of a distribution $E[X]$. The variance can also be expressed in a similar notation.\n",
    "\n",
    "$$ Variance (\\sigma ^2) =E[X^2] - E[X]^2$$\n",
    "\n",
    "This can be described in simple terms as \"Variance is the mean of the squared observations subtracted by the squared of the mean.\" Yes, it is becoming increasingly difficult for me to explain the above in simple terms.\n",
    "\n",
    "Now, if we bring back the initial mathematical formulation, we can notice how the above notation is true.\n",
    "$$ Variance (\\sigma^2) = \\frac{\\sum^N_{i=1} (x_i -\\tilde{x})^2}{N}$$\n",
    "$$ = \\frac{\\sum^N_{i=1} x_i^2 - 2\\tilde{x}x_i + \\tilde{x}^2}{N}$$\n",
    "$$ = E[ x_i^2 - 2\\tilde{x}x_i + \\tilde{x}^2]$$ \n",
    "Note that $\\tilde{x} = E[X]$ and $E[x_i] = E[X]$.\n",
    "$$ = E\\bigg[ X^2 - 2E[X]X + E[X]^2 \\bigg]$$\n",
    "Here, $E\\bigg[ E[X] X\\bigg]$ is a nested expectation. $E[X]$ is a constant and the $E[E[X]] \\text{ aka. expectation of the expecation of the observations}$, meaning the expectation of the mean, is still the mean. Thus:\n",
    "$E[E[X]X] = E[X]*E[X] = E[X]^2$\n",
    "\n",
    "then, we can say that\n",
    "$$ = E[ X^2] - 2E[X]E[X] + E[X]^2$$\n",
    "$$ = E[ X^2] - 2E[X]^2 + E[X]^2$$\n",
    "$$ = E[ X^2] - E[X]^2$$\n",
    "\n",
    "\n",
    "If you did not understand the above, the key to converting the first initial computation of variance into our second form, expressed as expecations. Take this away:\n",
    "$$\\frac{\\sum^N_{i=1} 2x_i\\tilde{x}}{N} = E[2x_i\\tilde{x}] = E\\big[2XE[2X] \\big] = 2E[X]E[X] = 2E[X]^2$$\n"
   ]
  },
  {
   "cell_type": "code",
   "execution_count": 15,
   "metadata": {},
   "outputs": [
    {
     "name": "stdout",
     "output_type": "stream",
     "text": [
      "The variance is: \n",
      "25.637755102040806\n"
     ]
    }
   ],
   "source": [
    "# In the same notation,\n",
    "variance = sum([o**2 for o in observations])/N - (get_mean(observations))**2\n",
    "print(\"The variance is: \")\n",
    "print(variance)"
   ]
  },
  {
   "cell_type": "markdown",
   "metadata": {},
   "source": []
  }
 ],
 "metadata": {
  "kernelspec": {
   "display_name": "base",
   "language": "python",
   "name": "python3"
  },
  "language_info": {
   "codemirror_mode": {
    "name": "ipython",
    "version": 3
   },
   "file_extension": ".py",
   "mimetype": "text/x-python",
   "name": "python",
   "nbconvert_exporter": "python",
   "pygments_lexer": "ipython3",
   "version": "3.10.9"
  }
 },
 "nbformat": 4,
 "nbformat_minor": 2
}
