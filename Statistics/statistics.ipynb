{
 "cells": [
  {
   "cell_type": "markdown",
   "metadata": {},
   "source": [
    "# Statistics"
   ]
  },
  {
   "cell_type": "markdown",
   "metadata": {},
   "source": [
    "## Mean\n",
    "\n",
    "### Simple Intuition\n",
    "In simple terms, mean is the average of a set of observed values, as simple as that. We can use it to say, describe some properties of a set of observations with a single number.\n",
    "\n",
    "In the context of Mathematics, we are in the business of finding relationships that we observe in the real world and quantifying them from,initially qualitative observations, into something we can universally describe with (numbers). We define mean as a measure of central tendancy. Given a process that produces values which follow a particular distribution, we can use the mean an expectation of the values that are produced.\n",
    "\n",
    "### Mathematical Intuition and Notation\n",
    "$$ Mean(\\mu) = \\frac{\\sum^N_{i=1}X_i}{N}$$\n",
    "The above means: \"The mean is the sum of all observations of x divided by N (the number of observations).\"\n",
    "\n"
   ]
  },
  {
   "cell_type": "code",
   "execution_count": 4,
   "metadata": {},
   "outputs": [
    {
     "name": "stdout",
     "output_type": "stream",
     "text": [
      "The mean is:\n",
      "6.928571428571429\n"
     ]
    }
   ],
   "source": [
    "observations = [1,1,1,2,2,4,5,7,10,11,11,14,14,14]\n",
    "# In the formulation below we calculate the mean in the above set of observations\n",
    "N = len(observations)\n",
    "mean = sum(observations)/N\n",
    "print(\"The mean is:\")\n",
    "print(mean)"
   ]
  },
  {
   "cell_type": "markdown",
   "metadata": {},
   "source": [
    "In the context of probability, we intend to use this means with the purpose of prediction. We are able to also express the mean in a different form yet provide the same result.\n",
    "\n",
    "$$Mean(\\mu) = E[X] = \\sum^N_{i=1} P(X = x_i) * x_i$$\n",
    "\n",
    "The above means: \"The mean is the sum of the multiples of x with their respective probabilities.\" We also say that the mean is the expectation of the observations. Meaning, if we have a random sample, we expect the value of that random sample to be the mean."
   ]
  },
  {
   "cell_type": "code",
   "execution_count": 5,
   "metadata": {},
   "outputs": [
    {
     "data": {
      "text/plain": [
       "[3, 2, 1, 1, 1, 1, 2, 3]"
      ]
     },
     "execution_count": 5,
     "metadata": {},
     "output_type": "execute_result"
    }
   ],
   "source": [
    "# In the formulation, below we calculate the mean with the probability method from above\n",
    "counts = [observations.count(i) for i in set(observations)]\n",
    "counts \n",
    "# Below we have the number of times each element appears in the observations list.\n",
    "# We observe 1 three times, 2 two times, so on and so forth"
   ]
  },
  {
   "cell_type": "code",
   "execution_count": 6,
   "metadata": {},
   "outputs": [
    {
     "data": {
      "text/plain": [
       "[0.21428571428571427,\n",
       " 0.14285714285714285,\n",
       " 0.07142857142857142,\n",
       " 0.07142857142857142,\n",
       " 0.07142857142857142,\n",
       " 0.07142857142857142,\n",
       " 0.14285714285714285,\n",
       " 0.21428571428571427]"
      ]
     },
     "execution_count": 6,
     "metadata": {},
     "output_type": "execute_result"
    }
   ],
   "source": [
    "# Next we get the probabilites of each observation happening by dividing each count by the total number of observations\n",
    "probabilities = [c/N for c in counts]\n",
    "probabilities"
   ]
  },
  {
   "cell_type": "code",
   "execution_count": 7,
   "metadata": {},
   "outputs": [
    {
     "name": "stdout",
     "output_type": "stream",
     "text": [
      "The mean is: \n",
      "6.928571428571428\n"
     ]
    }
   ],
   "source": [
    "# Then we get the mean by summing the multiples of their probabilites with their respective observed values as explained above.\n",
    "# We observe that for both methods, we get the same final value of the mean\n",
    "mean = sum([x * p for x,p in zip(probabilities,set(observations))])\n",
    "print('The mean is: ')\n",
    "print(mean)"
   ]
  },
  {
   "cell_type": "code",
   "execution_count": 8,
   "metadata": {},
   "outputs": [
    {
     "data": {
      "text/plain": [
       "6.928571428571429"
      ]
     },
     "execution_count": 8,
     "metadata": {},
     "output_type": "execute_result"
    }
   ],
   "source": [
    "def get_mean(observations):\n",
    "    N = len(observations)\n",
    "    return sum(observations)/N\n",
    "get_mean(observations)"
   ]
  },
  {
   "cell_type": "markdown",
   "metadata": {},
   "source": [
    "## Variance\n",
    "\n",
    "Now, we move on to the slightly more complicated statistical measures, the first of which being variance. I believe many feel that they have a strong grasp of simple statistical measures (myself included) related to variance, but it was not until I had to use them for more complex computations in option pricing did I realize that I only had a very surface-level understanding.\n",
    "Variance is the foundation of standard deviation, covariance, and correlation, all of which are very important measures in Quantitative Finance.\n",
    "\n",
    "### Simple Intuition\n",
    "Simply put, variance is a measure of how spread out a set of observations are.\n",
    "\n",
    "### Mathematical Intuition\n",
    "\n",
    "Once again, in the context of Mathematics, we say variance is a measure of dispersion of a group of observations. In the application of variance in drawing relationships of real-life observations, we find that the larger the variance of an observation, the harder it is to say with confidence, that a particular sample of a distribution will be close to the mean. Recall in the above we say that the mean is the expectation of a distribution. \n",
    "\n",
    "Just as an example, we can say that we expect the height of a random guy in Singapore to have a height of 171 cm, but if the variance is very high, we are unable to say, with a high level of confidence, that for a random guy we find in Singaore, his height would be around 171 cm.\n",
    "\n",
    "### Mathematical Notation\n",
    "\n",
    "$$ Variance (\\sigma^2) = \\frac{\\sum^N_{i=1} (x_i -\\tilde{x})^2}{N}$$\n",
    "\n",
    "Here, $\\tilde{x}$ is the mean of the population, (could either be known or an estimate as well). In simple terms this means \"The variance is the sum of squared deviations of each observed sample from the mean divided by the number of samples.\" The purpose of the square in the above would be to make each observed value become positive (if not they would very likley cancel each other out and give a poor representation of dispersion). Note how, it is increasingly difficult to describe in simple English what each of these statistical parameters are."
   ]
  },
  {
   "cell_type": "code",
   "execution_count": 9,
   "metadata": {},
   "outputs": [
    {
     "name": "stdout",
     "output_type": "stream",
     "text": [
      "The mean is:\n",
      "6.928571428571428\n"
     ]
    }
   ],
   "source": [
    "print(\"The mean is:\")\n",
    "print(mean)\n",
    "# From the above we have that the mean is equal to 6.92"
   ]
  },
  {
   "cell_type": "code",
   "execution_count": 10,
   "metadata": {},
   "outputs": [
    {
     "name": "stdout",
     "output_type": "stream",
     "text": [
      "The variance is: \n",
      "25.637755102040817\n"
     ]
    }
   ],
   "source": [
    "N = len(observations)                                    # Find the denominator N\n",
    "squared_deviations = [(o-mean)**2 for o in observations] #Find the numerator Sum[(x - mu)^2]\n",
    "variance = sum(squared_deviations)/N            \n",
    "print(\"The variance is: \")\n",
    "print(variance)"
   ]
  },
  {
   "cell_type": "code",
   "execution_count": 11,
   "metadata": {},
   "outputs": [
    {
     "data": {
      "text/plain": [
       "25.637755102040813"
      ]
     },
     "execution_count": 11,
     "metadata": {},
     "output_type": "execute_result"
    }
   ],
   "source": [
    "\n",
    "def get_variance(observations):\n",
    "    mu = get_mean(observations)\n",
    "    N = len(observations)\n",
    "    squared_deviations = [(o-mu)**2 for o in observations]\n",
    "    return sum(squared_deviations)/N\n",
    "get_variance(observations)"
   ]
  },
  {
   "cell_type": "markdown",
   "metadata": {},
   "source": [
    "### Mathematical Notation in the Form of Expectations\n",
    "\n",
    "Note that we can also express the variance in other notations. Recal that we have defined the mean above as the expectation of a distribution $E[X]$. The variance can also be expressed in a similar notation.\n",
    "\n",
    "$$ Variance (\\sigma ^2) =E[X^2] - E[X]^2$$\n",
    "\n",
    "This can be described in simple terms as \"Variance is the mean of the squared observations subtracted by the squared of the mean.\" Yes, it is becoming increasingly difficult for me to explain the above in simple terms.\n",
    "\n",
    "Now, if we bring back the initial mathematical formulation, we can notice how the above notation is true.\n",
    "$$ Variance (\\sigma^2) = \\frac{\\sum^N_{i=1} (x_i -\\tilde{x})^2}{N}$$\n",
    "$$ = \\frac{\\sum^N_{i=1} x_i^2 - 2\\tilde{x}x_i + \\tilde{x}^2}{N}$$\n",
    "$$ = E[ x_i^2 - 2\\tilde{x}x_i + \\tilde{x}^2]$$ \n",
    "Note that $\\tilde{x} = E[X]$ and $E[x_i] = E[X]$.\n",
    "$$ = E\\bigg[ X^2 - 2E[X]X + E[X]^2 \\bigg]$$\n",
    "Here, $E\\bigg[ E[X] X\\bigg]$ is a nested expectation. $E[X]$ is a constant and the $E[E[X]] \\text{ aka. expectation of the expecation of the observations}$, meaning the expectation of the mean, is still the mean. Thus:\n",
    "$E[E[X]X] = E[X]*E[X] = E[X]^2$\n",
    "\n",
    "then, we can say that\n",
    "$$ = E[ X^2] - 2E[X]E[X] + E[X]^2$$\n",
    "$$ = E[ X^2] - 2E[X]^2 + E[X]^2$$\n",
    "$$ = E[ X^2] - E[X]^2$$\n",
    "\n",
    "\n",
    "If you did not understand the above, the key to converting the first initial computation of variance into our second form, expressed as expecations. Take this away:\n",
    "$$\\frac{\\sum^N_{i=1} 2x_i\\tilde{x}}{N} = E[2x_i\\tilde{x}] = E\\big[2XE[2X] \\big] = 2E[X]E[X] = 2E[X]^2$$\n"
   ]
  },
  {
   "cell_type": "code",
   "execution_count": 15,
   "metadata": {},
   "outputs": [
    {
     "name": "stdout",
     "output_type": "stream",
     "text": [
      "The variance is: \n",
      "25.637755102040806\n"
     ]
    }
   ],
   "source": [
    "# In the same notation,\n",
    "variance = sum([o**2 for o in observations])/N - (get_mean(observations))**2\n",
    "print(\"The variance is: \")\n",
    "print(variance)"
   ]
  },
  {
   "cell_type": "markdown",
   "metadata": {},
   "source": [
    "### Properties of Variance\n",
    "1. $Var(aX) = a^2Var(X)$\n",
    "2. $Var(X+Y) = Var(X)+Var(Y)+2Cov(X,Y)$\n",
    "3. $Var(X-Y) = Var(X)+Var(Y)-2Cov(X,Y)$\n",
    "    If X and Y are independent Cov(X,Y) = 0\n",
    "4. $Var(a) = 0$\n",
    "\n",
    "Out of all the properties, the first and second one are the less intuitive ones. For the first property, if we multiply all our observations by a constant we get aX = a * X. Recall that variance requires us to square all the deviations from the mean, this time $a\\tilde{x} = aE[X]$, giving us $E[a^2X^2] - a^2[EX]^2$. Thus we can see that we are able to take out $a^2$."
   ]
  },
  {
   "cell_type": "markdown",
   "metadata": {},
   "source": [
    "## Standard Deviation\n",
    "\n",
    "In the above variance, notice that we have squared our deivations from the mean. So this provides a value that is not to scale, and more difficult to understand from a simplistic point of view. In our observations given, [1,1,1,2,2,4,5,7,10,11,11,14,14,14], the average is about 6, while our variance is 25. To the unobservant eye, the value 25 brings little value.\n",
    "\n",
    "Hence we need to square root our variance formulation to bring it down to a value that is more intuitive. Thus we have:\n",
    "\n",
    "$$StandardDeviation (\\sigma) = \\sqrt{\\frac{\\sum^N_{i=1} (x_i - \\tilde{x})^2}{N}}$$\n",
    "\n",
    "In simple terms we describe the standard deviation as *the average absolute deviations from the mean*.\n",
    "From the above formulation, \"The square root of the variance of the distribution.\"\n"
   ]
  },
  {
   "cell_type": "code",
   "execution_count": 18,
   "metadata": {},
   "outputs": [
    {
     "name": "stdout",
     "output_type": "stream",
     "text": [
      "The standard deviation is:\n",
      "5.063373885270652\n"
     ]
    }
   ],
   "source": [
    "stddev = (get_variance(observations))**0.5\n",
    "print(\"The standard deviation is:\")\n",
    "print(stddev)\n",
    "# Now we have a value 5.05 which gives us a more intuitive understanding of the dispersion of the distribution"
   ]
  },
  {
   "cell_type": "code",
   "execution_count": 24,
   "metadata": {},
   "outputs": [
    {
     "data": {
      "text/plain": [
       "5.063373885270652"
      ]
     },
     "execution_count": 24,
     "metadata": {},
     "output_type": "execute_result"
    }
   ],
   "source": [
    "def get_std_dev(observations):\n",
    "    return get_variance(observations)**0.5\n",
    "get_std_dev(observations)"
   ]
  },
  {
   "cell_type": "markdown",
   "metadata": {},
   "source": [
    "## Covariance\n",
    "\n",
    "In simple terms, covariance provides a numerical measure of the extent to which two variables move together. In the context of Quantitative Finance, we are often interested in how to variables move together in time, i.e. time is the independent variable that is always increasing, and we want to measure, as time passes, how two variables move together.\n",
    "\n",
    "### Mathematical Notation and Intuition\n",
    "$$ Covariance(Cov(X,Y)) = \\frac{\\sum^N_{i=1}(x_i - \\tilde{x})(y_i-\\tilde{y})}{N}$$\n",
    "$$ = E\\bigg[(X-E[X])(Y-E[Y])\\bigg]$$\n",
    "\n",
    "### Simple Intuition\n",
    "If we think about the above formulation intuitively, a positive covariance tells us that the higher one value is away from its mean, the higher the other value also is from its mean, on average. Take note of the term on average, as if we have just one particularly big outlier, it can distort the relationship of the two variables extensively (Example Below). \n",
    "\n",
    "\n",
    "It is however, difficult to simply define an intuitive explanation of covariance. I would desribe covariance as such - with an example. Given X our independent variable with a covariance of 100 with Y, our dependent variable; if an observation of x at time t, had deviated by a certain amount from its mean, we would expect y to deviate from its own mean by 100 times the amount x had deviated from its mean.\n",
    "\n",
    "Numerically, if mean of X = 10 and one observation of X was 21, i.e deviation from mean = 11, we would expect the observation of Y to be 21 * 100 = 2100. Given mean of Y = 20, that would mean y's value would be 2120."
   ]
  },
  {
   "cell_type": "code",
   "execution_count": 135,
   "metadata": {},
   "outputs": [],
   "source": [
    "X = [1,1,1,2,-2,-2,-4,7,10,2,-5,1,4,-4]\n",
    "Y = [1,1,1,2,-2,-2,-4,7,10,2,-5,1,4,400]\n",
    "# Take note that they are identical expcept for the last term in which they are opposite in direction and with a large magnitude for Y"
   ]
  },
  {
   "cell_type": "code",
   "execution_count": 136,
   "metadata": {},
   "outputs": [
    {
     "name": "stdout",
     "output_type": "stream",
     "text": [
      "Mean of X and Y are 0.8571428571428571 and 29.714285714285715 respectively\n"
     ]
    }
   ],
   "source": [
    "mu_x = get_mean(X) # We find that the mean of X is very small\n",
    "mu_y = get_mean(Y) # While the mean of Y is very large\n",
    "print(f\"Mean of X and Y are {mu_x} and {mu_y} respectively\")"
   ]
  },
  {
   "cell_type": "code",
   "execution_count": 137,
   "metadata": {},
   "outputs": [
    {
     "data": {
      "text/html": [
       "<div>\n",
       "<style scoped>\n",
       "    .dataframe tbody tr th:only-of-type {\n",
       "        vertical-align: middle;\n",
       "    }\n",
       "\n",
       "    .dataframe tbody tr th {\n",
       "        vertical-align: top;\n",
       "    }\n",
       "\n",
       "    .dataframe thead th {\n",
       "        text-align: right;\n",
       "    }\n",
       "</style>\n",
       "<table border=\"1\" class=\"dataframe\">\n",
       "  <thead>\n",
       "    <tr style=\"text-align: right;\">\n",
       "      <th></th>\n",
       "      <th>dev_x</th>\n",
       "      <th>dev_y</th>\n",
       "      <th>dev_xy</th>\n",
       "    </tr>\n",
       "  </thead>\n",
       "  <tbody>\n",
       "    <tr>\n",
       "      <th>0</th>\n",
       "      <td>0.142857</td>\n",
       "      <td>-28.714286</td>\n",
       "      <td>-4.102041</td>\n",
       "    </tr>\n",
       "    <tr>\n",
       "      <th>1</th>\n",
       "      <td>0.142857</td>\n",
       "      <td>-28.714286</td>\n",
       "      <td>-4.102041</td>\n",
       "    </tr>\n",
       "    <tr>\n",
       "      <th>2</th>\n",
       "      <td>0.142857</td>\n",
       "      <td>-28.714286</td>\n",
       "      <td>-4.102041</td>\n",
       "    </tr>\n",
       "    <tr>\n",
       "      <th>3</th>\n",
       "      <td>1.142857</td>\n",
       "      <td>-27.714286</td>\n",
       "      <td>-31.673469</td>\n",
       "    </tr>\n",
       "    <tr>\n",
       "      <th>4</th>\n",
       "      <td>-2.857143</td>\n",
       "      <td>-31.714286</td>\n",
       "      <td>90.612245</td>\n",
       "    </tr>\n",
       "    <tr>\n",
       "      <th>5</th>\n",
       "      <td>-2.857143</td>\n",
       "      <td>-31.714286</td>\n",
       "      <td>90.612245</td>\n",
       "    </tr>\n",
       "    <tr>\n",
       "      <th>6</th>\n",
       "      <td>-4.857143</td>\n",
       "      <td>-33.714286</td>\n",
       "      <td>163.755102</td>\n",
       "    </tr>\n",
       "    <tr>\n",
       "      <th>7</th>\n",
       "      <td>6.142857</td>\n",
       "      <td>-22.714286</td>\n",
       "      <td>-139.530612</td>\n",
       "    </tr>\n",
       "    <tr>\n",
       "      <th>8</th>\n",
       "      <td>9.142857</td>\n",
       "      <td>-19.714286</td>\n",
       "      <td>-180.244898</td>\n",
       "    </tr>\n",
       "    <tr>\n",
       "      <th>9</th>\n",
       "      <td>1.142857</td>\n",
       "      <td>-27.714286</td>\n",
       "      <td>-31.673469</td>\n",
       "    </tr>\n",
       "    <tr>\n",
       "      <th>10</th>\n",
       "      <td>-5.857143</td>\n",
       "      <td>-34.714286</td>\n",
       "      <td>203.326531</td>\n",
       "    </tr>\n",
       "    <tr>\n",
       "      <th>11</th>\n",
       "      <td>0.142857</td>\n",
       "      <td>-28.714286</td>\n",
       "      <td>-4.102041</td>\n",
       "    </tr>\n",
       "    <tr>\n",
       "      <th>12</th>\n",
       "      <td>3.142857</td>\n",
       "      <td>-25.714286</td>\n",
       "      <td>-80.816327</td>\n",
       "    </tr>\n",
       "    <tr>\n",
       "      <th>13</th>\n",
       "      <td>-4.857143</td>\n",
       "      <td>370.285714</td>\n",
       "      <td>-1798.530612</td>\n",
       "    </tr>\n",
       "  </tbody>\n",
       "</table>\n",
       "</div>"
      ],
      "text/plain": [
       "       dev_x       dev_y       dev_xy\n",
       "0   0.142857  -28.714286    -4.102041\n",
       "1   0.142857  -28.714286    -4.102041\n",
       "2   0.142857  -28.714286    -4.102041\n",
       "3   1.142857  -27.714286   -31.673469\n",
       "4  -2.857143  -31.714286    90.612245\n",
       "5  -2.857143  -31.714286    90.612245\n",
       "6  -4.857143  -33.714286   163.755102\n",
       "7   6.142857  -22.714286  -139.530612\n",
       "8   9.142857  -19.714286  -180.244898\n",
       "9   1.142857  -27.714286   -31.673469\n",
       "10 -5.857143  -34.714286   203.326531\n",
       "11  0.142857  -28.714286    -4.102041\n",
       "12  3.142857  -25.714286   -80.816327\n",
       "13 -4.857143  370.285714 -1798.530612"
      ]
     },
     "execution_count": 137,
     "metadata": {},
     "output_type": "execute_result"
    }
   ],
   "source": [
    "N = len(X)\n",
    "dev_x = [x - mu_x for x in X]\n",
    "dev_y = [y-mu_y for y in Y]\n",
    "#Lets observe how X and Y deviate from their mean using pandas dataframe for ease\n",
    "import pandas as pd\n",
    "deviations = pd.DataFrame(zip(dev_x,dev_y),columns = ['dev_x','dev_y'])\n",
    "deviations['dev_xy'] = deviations['dev_x']*deviations['dev_y']\n",
    "deviations "
   ]
  },
  {
   "cell_type": "markdown",
   "metadata": {},
   "source": [
    "#### Observations\n",
    "We can see that for bigger deviations from the mean, absolute of dev_xy reacts by becoming larger itself(Rows 6 and 7)\n",
    "However, this does not tell a relationship between the magnitudes of the deviations as seen in row 6 and 7, dev_x are relatively small, but dev_xy does not tell you that the x and y values move together in temrs of magnitude.\n",
    "\n",
    "Covariance however, tells us something about how frequently (frequency) and to what extent (magnitude) our two distributions move together ON AVERAGE. Note that in the X and Y, I have made them almost exactly identical, except for the very last value."
   ]
  },
  {
   "cell_type": "code",
   "execution_count": 138,
   "metadata": {},
   "outputs": [
    {
     "name": "stdout",
     "output_type": "stream",
     "text": [
      "The covariance is: \n",
      "-123.61224489795917\n"
     ]
    }
   ],
   "source": [
    "covar = sum([x*y for x,y in zip(dev_x,dev_y)])/N\n",
    "print('The covariance is: ')\n",
    "print(covar)\n",
    "\n"
   ]
  },
  {
   "cell_type": "markdown",
   "metadata": {},
   "source": [
    "## Correlation\n",
    "\n",
    "### Simple Intuition\n",
    "Now, we have correlation which is the covariance scaled by the multiple of the standard deviations of both distributions. Note that, the correlation tells us on a deviation-weighted (from the mean) basis, how often do two variables move together. Note that we have removed the idea of scale by scaling the covariance by the mulitples of the standard deviations. So the correlation does not tell us to what extent (in terms of magnitude) does one variable vary with another."
   ]
  },
  {
   "cell_type": "code",
   "execution_count": 139,
   "metadata": {},
   "outputs": [
    {
     "name": "stdout",
     "output_type": "stream",
     "text": [
      "The correlation is: \n",
      "-0.2956518768813528\n"
     ]
    }
   ],
   "source": [
    "#Correlation\n",
    "std_x = get_std_dev(X)\n",
    "std_y = get_std_dev(Y)\n",
    "corr = covar/(std_x*std_y)\n",
    "print(\"The correlation is: \")\n",
    "print(corr)"
   ]
  },
  {
   "cell_type": "code",
   "execution_count": null,
   "metadata": {},
   "outputs": [],
   "source": []
  }
 ],
 "metadata": {
  "kernelspec": {
   "display_name": "base",
   "language": "python",
   "name": "python3"
  },
  "language_info": {
   "codemirror_mode": {
    "name": "ipython",
    "version": 3
   },
   "file_extension": ".py",
   "mimetype": "text/x-python",
   "name": "python",
   "nbconvert_exporter": "python",
   "pygments_lexer": "ipython3",
   "version": "3.10.9"
  }
 },
 "nbformat": 4,
 "nbformat_minor": 2
}
