{
 "cells": [
  {
   "cell_type": "markdown",
   "metadata": {},
   "source": [
    "# Calculus"
   ]
  },
  {
   "cell_type": "markdown",
   "metadata": {},
   "source": [
    "## Differentiation"
   ]
  },
  {
   "cell_type": "markdown",
   "metadata": {},
   "source": [
    "## Integration"
   ]
  },
  {
   "cell_type": "markdown",
   "metadata": {},
   "source": [
    "### Taylor's Expansion\n",
    "\n",
    "#### Simple Explanation\n",
    "In simple terms, Taylor's Expansion is a method to estimate the new output (our dependent variable) given a very small change in the input (independent variable). One of the questions that I had asked when first learning about the Taylor's Expansion is \"Why do we need to learn about this when we can simply put our input through the already known function to get the exact value, rather than estimate the new value with Taylor's Expansion?\" Without diving into too much details, there are many reasons why Taylor's Expansion is useful, but for the purpose of option pricing, it allows us to convert the originally non-integrable stochastic stock-price process into one that we integrate, i.e solve for the stochastic differential equation."
   ]
  },
  {
   "cell_type": "markdown",
   "metadata": {},
   "source": []
  }
 ],
 "metadata": {
  "kernelspec": {
   "display_name": "base",
   "language": "python",
   "name": "python3"
  },
  "language_info": {
   "name": "python",
   "version": "3.10.9"
  }
 },
 "nbformat": 4,
 "nbformat_minor": 2
}
