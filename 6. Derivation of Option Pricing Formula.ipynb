{
 "cells": [
  {
   "cell_type": "markdown",
   "metadata": {},
   "source": [
    "## Overview\n",
    "In this note, we cover how we derive the price of a call option. We assume that we are valuing the price of a stock call option under the [[Black-Scholes Model]]as an example. We can fairly easily extend the concepts in this note to other valuation models."
   ]
  },
  {
   "cell_type": "code",
   "execution_count": null,
   "metadata": {},
   "outputs": [],
   "source": []
  },
  {
   "cell_type": "markdown",
   "metadata": {},
   "source": [
    "### Call Option Valuation\n",
    "\n",
    "In the previous note we derived that the stock price process under the BSM and it can be modelled as such.\n",
    "$$S_{T} = S_{0} e^{(r - \\frac{\\sigma^2}{2})T + \\sigma W_{T}}$$\n",
    "\n",
    "#### Simple Intuition\n",
    "The next step is to derive the price of a call option. Intuitively speaking, we can value the call option by the following steps:\n",
    "1. Find the expected value of the call option at maturity\n",
    "2. Discount that expected value back to the present\n",
    "\n",
    "#### Mathematical Valuation\n",
    "To calculate the expectation of a particular value, we sum the multiples of each possible value with its probability of occurring, i.e. the probability weighted mean, and this can be calculated via integration.\n",
    "$$S_{T} = S_{0} e^{(r - \\frac{\\sigma^2}{2})T + \\sigma W_{T}}$$\n",
    "Recall in [[Probability Theory and Distributions]], we have the following PDF for a normal distribution; an assumption in which the BSM operates under:\n",
    "$$PDF = \\frac{1}{\\sigma\\sqrt{ 2 \\pi }}e^{\\frac{-(x-\\mu)^2}{2 \\sigma^2}}$$\n",
    "\n",
    "We will be using the above PDF to map it to each possible expiration strike to derive the price of the option. For a call option, we have an expiry date $T$ and a strike price $K$. The payoff of the call option at maturity is equal to:\n",
    "$$(S_{T} - K)^{+}$$\n",
    "The superscript of + denotes that the value of the call option <span style = color:goldenrod>is strictly positive.</span><span style = color:yellow>To derive the value of the call option, we integrate its payoff with respect to Brownian motion (in a simple sense, with respect to the possible values we could get in a random sample which follows a normal distribution). </span>\n",
    "\n",
    "$$V_{c} = Discount(\\text{PDF * Integral of the call option payoff w.r.t Brownian motion})$$\n",
    "$$V_{c} = \\frac{e^{-rT}}{\\sqrt{ 2 \\pi }}\\int^\\infty_{-\\infty} (S_{T}-K)^{+}\\, e^{\\frac{-x^2}{2}}dx $$\n",
    "Substituting our stock price process in,\n",
    "$$V_{c} = \\frac{e^{-rT}}{\\sqrt{ 2 \\pi }}\\int^\\infty_{-\\infty} (S_{0}e^{(r-\\frac{\\sigma^2}{2})+\\sigma W_{T}}-K)^{+}\\, e^{\\frac{-x^2}{2}}dx $$"
   ]
  },
  {
   "cell_type": "code",
   "execution_count": null,
   "metadata": {},
   "outputs": [],
   "source": []
  },
  {
   "cell_type": "markdown",
   "metadata": {},
   "source": [
    "##### Expressing Brownian Motion as a function of the Normal Distribution\n",
    "As mentioned, we are integrating the call option payoff with respect to Brownian motion and we can express Brownian motion as a function of the normal distribution as such:\n",
    "$$W_{T} = N(0,T)$$\n",
    "$$W_{T} = \\sqrt{T} * N(0,1) $$\n",
    "$$= \\sqrt{ T }z$$\n",
    "$$V_{c} = \\frac{e^{-rT}}{\\sqrt{ 2 \\pi }}\\int^\\infty_{-\\infty} (S_{0}e^{(r-\\frac{\\sigma^2}{2})T+\\sigma \\sqrt{ T }x}-K)^{+}\\, e^{\\frac{-x^2}{2}}dx $$\n",
    "<span style = color:red> Above, we have quite a chunky formula for the value of a call option, but we can actually break it down quite simply. </span>\n",
    "$e^{-rT} = \\text{Discount Factor}$\n",
    "$\\frac{1}{\\sqrt{2 \\pi}}e^{\\frac{-x^2}{2}} = \\text{PDF Function of Normal Distribution}$\n",
    "$(S_0e^{(r-\\frac{\\sigma^2}{2})+\\sigma \\sqrt{ T }x}-K)^{+} = \\text{Payoff of Call Option at expiry}$\n",
    "\n"
   ]
  },
  {
   "cell_type": "code",
   "execution_count": null,
   "metadata": {},
   "outputs": [],
   "source": []
  },
  {
   "cell_type": "markdown",
   "metadata": {},
   "source": [
    "##### Handling the Strictly Positive Payoff of a Call Option\n",
    "The next step is to simplify the call option payoff formula. Given that the payoff of the call option at expiry is strictly greater than 0, we have to perform further mathematical manipulation to <span style = color:goldenrod> Find the lower limit value of the integration such that the payoff is strictly positive. </span>\n",
    "$$S_{0}e^{(r-\\frac{\\sigma^2}{2})T+\\sigma \\sqrt{ T }x}-K \\geq 0$$\n",
    "$$e^{(r-\\frac{\\sigma^2}{2})T+\\sigma \\sqrt{ T }x} \\geq \\frac{K}{S_{0}}$$\n",
    "$$ (r-\\frac{\\sigma^2}{2})T+\\sigma \\sqrt{ T }x \\geq \\log\\frac{K}{S_{0}}$$\n",
    "$$\\sigma \\sqrt{ T }x \\geq \\log\\frac{K}{S_{0}}-(r-\\frac{\\sigma^2}{2})T$$\n",
    "$$x^{*} =x\\geq \\frac{\\log\\frac{K}{S_{0}}-(r-\\frac{\\sigma^2}{2})T}{\\sigma\\sqrt{ T }}$$\n",
    "Now, we have removed the \"strictly positive\" notation from our call option formula and replace our lower limit of integration with $x^{*}$ above"
   ]
  },
  {
   "cell_type": "code",
   "execution_count": null,
   "metadata": {},
   "outputs": [],
   "source": []
  },
  {
   "cell_type": "markdown",
   "metadata": {},
   "source": [
    "#### Derive the Expected Call Option Payoff via Integration\n",
    "$$V_{c} = \\frac{e^{-rT}}{\\sqrt{ 2 \\pi }}\\int^\\infty_{x^{*}} (S_{0}e^{(r-\\frac{\\sigma^2}{2})T+\\sigma \\sqrt{ T }x}-K)\\, e^{\\frac{-x^2}{2}}dx $$\n",
    "$$V_{c} = \\frac{e^{-rT}}{\\sqrt{ 2 \\pi }}\\int^\\infty_{x^{*}} S_{0}e^{\\left( r-\\frac{\\sigma^2}{2} \\right)T+\\sigma \\sqrt{ T }x}e^{\\frac{-x^2}{2}} dx -\\frac{e^{-rT}}{\\sqrt{ 2\\pi }}\\int ^\\infty_{x_{*}}  K e^{\\frac{-x^2}{2}}dx $$\n",
    "$$V_{c} = \\frac{e^{-\\frac{\\sigma^2}{2}T}}{\\sqrt{ 2 \\pi }}\\int^\\infty_{x^{*}} S_{0}e^{\\frac{-x^2}{2}+\\sigma \\sqrt{ T }x} dx -\\frac{e^{-rT}}{\\sqrt{ 2\\pi }}\\int ^\\infty_{x_{*}}  K e^{\\frac{-x^2}{2}}dx $$\n",
    "$$ = \\frac{e^{-\\frac{\\sigma^2}{2}T}}{\\sqrt{ 2 \\pi }}\\int^\\infty_{x^{*}} S_{0}e^{\\frac{-x^2+2\\sigma \\sqrt{ T }x}{2}} dx -\\frac{e^{-rT}}{\\sqrt{ 2\\pi }}\\int ^\\infty_{x_{*}}  K e^{\\frac{-x^2}{2}}dx $$\n",
    "Using completing the square method for the first integral (on left)\n",
    "$$ = \\frac{e^{-\\frac{\\sigma^2}{2}T}}{\\sqrt{ 2 \\pi }}\\int^\\infty_{x^{*}} S_{0}e^{\\frac{-(x-\\sigma \\sqrt{ T })^2+\\sigma^2 T}{2}} dx -\\frac{e^{-rT}}{\\sqrt{ 2\\pi }}\\int ^\\infty_{x_{*}}  K e^{\\frac{-x^2}{2}}dx $$\n",
    "$e^{\\frac{-\\sigma^2}{2}T}$ terms outside and inside the integral cancels out each other\n",
    "$$ = \\frac{S_{0}}{\\sqrt{ 2 \\pi }}\\int^\\infty_{x^{*}} e^{-\\frac{(x-\\sigma \\sqrt{ T})^2}{2}} dx -\\frac{Ke^{-rT}}{\\sqrt{ 2\\pi }}\\int ^\\infty_{x_{*}}e^{\\frac{-x^2}{2}}dx $$\n",
    "Recall in [[Normal Distribution]], the CDF of a normal distribution is denoted as:\n",
    "$$\\Phi(x) = \\int ^\\infty_{-\\infty}\\frac{1}{\\sqrt{ 2\\pi }}e^{\\frac{-x^2}{2}} \\, dx $$\n",
    "For our case, the mean is equal to $\\sigma \\sqrt{T}$. For the upper limit of $\\infty$, the mean of $\\sigma \\sqrt{T}$ is insignificant and we can assume it to be the same as finding the CDF of a normal distribution. Now, we have:\n",
    "$$ = S_{0}[\\Phi(\\infty) - \\Phi(x^{*}-\\sigma \\sqrt{ T })]-Ke^{-rT}[\\Phi(\\infty) - \\Phi(x^{*})] $$\n",
    "$$ = S_{0} \\Phi(-x^{*}+\\sigma \\sqrt{ T })-Ke^{-rT} \\Phi(-x^{*}) $$\n",
    "Since $x^{*} =x\\geq \\frac{\\log\\frac{K}{S_{0}}-(r-\\frac{\\sigma^2}{2})T}{\\sigma\\sqrt{ T }}$\n",
    "$$ = S_{0} \\Phi(- \\frac{\\log\\frac{K}{S_{0}}-(r-\\frac{\\sigma^2}{2})T+1}{\\sigma\\sqrt{ T }})-Ke^{-rT} \\Phi(\\frac{-\\log\\frac{K}{S_{0}}+(r-\\frac{\\sigma^2}{2})T}{\\sigma\\sqrt{ T }}) $$\n",
    "$$= S_{0} \\Phi(\\frac{\\log\\frac{S_{0}}{K}+(r-\\frac{\\sigma^2}{2})T+\\sigma^2T}{\\sigma\\sqrt{ T }})-Ke^{-rT} \\Phi(\\frac{-\\log\\frac{K}{S_{0}}+(r-\\frac{\\sigma^2}{2})T}{\\sigma\\sqrt{ T }}) $$\n",
    "For the next, step we have, $\\sigma^2T + (r-\\frac{\\sigma^2}{2})T = (r+\\frac{\\sigma^2}{2})T$, which gives the following\n",
    "\n",
    "$$= S_{0} \\Phi(\\frac{\\log\\frac{S_{0}}{K}+(r+\\frac{\\sigma^2}{2})T}{\\sigma\\sqrt{ T }})-Ke^{-rT} \\Phi(\\frac{\\log\\frac{S_{0}}{K}+(r-\\frac{\\sigma^2}{2})T}{\\sigma\\sqrt{ T }}) $$\n",
    "\n"
   ]
  },
  {
   "cell_type": "code",
   "execution_count": null,
   "metadata": {},
   "outputs": [],
   "source": []
  },
  {
   "cell_type": "markdown",
   "metadata": {},
   "source": [
    "#### Call Option Pricing Formula\n",
    "Finally, we have:\n",
    "$$V_{call} = S_{0}\\Phi(d_{1}) - Ke^{-rT}\\Phi(d_{2})$$\n",
    "where\n",
    "$$d_{1} = \\frac{\\log\\frac{S_{0}}{K}+(r+\\frac{\\sigma^2}{2})T}{\\sigma\\sqrt{ T }}$$\n",
    "$$d_{2} = d_{1} - \\sigma \\sqrt{ T }$$\n",
    "\n"
   ]
  }
 ],
 "metadata": {
  "kernelspec": {
   "display_name": "base",
   "language": "python",
   "name": "python3"
  },
  "language_info": {
   "codemirror_mode": {
    "name": "ipython",
    "version": 3
   },
   "file_extension": ".py",
   "mimetype": "text/x-python",
   "name": "python",
   "nbconvert_exporter": "python",
   "pygments_lexer": "ipython3",
   "version": "3.10.9"
  }
 },
 "nbformat": 4,
 "nbformat_minor": 2
}
